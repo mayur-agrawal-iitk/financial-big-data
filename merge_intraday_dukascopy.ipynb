{
 "cells": [
  {
   "cell_type": "code",
   "execution_count": 1,
   "metadata": {},
   "outputs": [],
   "source": [
    "import pandas as pd\n",
    "import os"
   ]
  },
  {
   "cell_type": "code",
   "execution_count": 9,
   "metadata": {},
   "outputs": [],
   "source": [
    "def concat_all_df(symbol):\n",
    "    \"\"\"\n",
    "    Concatenates all csv files split by dates for a given symbol into a single csv file.\n",
    "    Args:\n",
    "        symbol: str, symbol of the stock\n",
    "    \"\"\"\n",
    "    csv_files = [file for file in os.listdir('./data') if file.startswith(symbol) and file.endswith('.csv')]\n",
    "\n",
    "    dataframes = [pd.read_csv('data/' + file) for file in csv_files]\n",
    "\n",
    "    combined_df = pd.concat(dataframes, ignore_index=True)\n",
    "\n",
    "    combined_df.columns = ['timestamp', 'open', 'high', 'low', 'close', 'volume']\n",
    "\n",
    "    combined_df['timestamp'] = combined_df['timestamp'].str.extract(r'^(.*)\\sGMT')[0]\n",
    "    combined_df['timestamp'] = pd.to_datetime(combined_df['timestamp'], format='%d.%m.%Y %H:%M:%S.%f')\n",
    "    combined_df = combined_df.sort_values(by='timestamp').reset_index(drop=True)\n",
    "\n",
    "    output_file = f\"data/{symbol}_5min.csv\"\n",
    "    combined_df.to_csv(output_file, index=False)"
   ]
  },
  {
   "cell_type": "code",
   "execution_count": 10,
   "metadata": {},
   "outputs": [],
   "source": [
    "for symbol in ['ASML', 'BRENT', 'EURUSD', 'EUS', 'NOVOB', 'USDJPY']:\n",
    "    concat_all_df(symbol)"
   ]
  },
  {
   "cell_type": "code",
   "execution_count": null,
   "metadata": {},
   "outputs": [],
   "source": []
  }
 ],
 "metadata": {
  "kernelspec": {
   "display_name": "ada",
   "language": "python",
   "name": "python3"
  },
  "language_info": {
   "codemirror_mode": {
    "name": "ipython",
    "version": 3
   },
   "file_extension": ".py",
   "mimetype": "text/x-python",
   "name": "python",
   "nbconvert_exporter": "python",
   "pygments_lexer": "ipython3",
   "version": "3.11.10"
  }
 },
 "nbformat": 4,
 "nbformat_minor": 2
}
