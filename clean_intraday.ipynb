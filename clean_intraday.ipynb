{
 "cells": [
  {
   "cell_type": "code",
   "metadata": {
    "ExecuteTime": {
     "end_time": "2025-01-26T14:32:09.151084Z",
     "start_time": "2025-01-26T14:32:09.143085Z"
    }
   },
   "source": [
    "import pandas as pd"
   ],
   "outputs": [],
   "execution_count": 28
  },
  {
   "cell_type": "code",
   "metadata": {
    "ExecuteTime": {
     "end_time": "2025-01-26T14:32:09.166090Z",
     "start_time": "2025-01-26T14:32:09.158086Z"
    }
   },
   "source": [
    "def filter_zero_volumes(df, symbol):\n",
    "    \"\"\"\n",
    "    Filters out consecutive zero volume rows in a dataframe, keeping only the first zero value in each sequence of zeros.\n",
    "    Args:\n",
    "        df: A time series of prices and volumes.\n",
    "        symbol: The trading pair symbol.\n",
    "    \"\"\"\n",
    "    # Ensure 'timestamp' is a datetime\n",
    "    df['timestamp'] = pd.to_datetime(df['timestamp'])\n",
    "\n",
    "    # Identify rows with zero volume\n",
    "    df['is_zero_volume'] = df['volume'] == 0\n",
    "\n",
    "    # Mark the first zero volume in consecutive zeros\n",
    "    df['is_first_zero'] = df['is_zero_volume'] & ~df['is_zero_volume'].shift(1, fill_value=False)\n",
    "\n",
    "    # Keep zero volume row only if it's the first zero in a sequence of zeros\n",
    "    df_filtered = df[df['is_first_zero'] | ~df['is_zero_volume']]\n",
    "\n",
    "    # Drop helper columns\n",
    "    df_filtered = df_filtered.drop(columns=['is_zero_volume', 'is_first_zero'])\n",
    "\n",
    "    # Save to CSV\n",
    "    df_filtered.to_csv(f\"./data/{symbol}_5min.csv\", index=False)\n",
    "\n",
    "    return"
   ],
   "outputs": [],
   "execution_count": 29
  },
  {
   "cell_type": "code",
   "metadata": {
    "ExecuteTime": {
     "end_time": "2025-01-26T14:32:53.368184Z",
     "start_time": "2025-01-26T14:32:09.183673Z"
    }
   },
   "source": [
    "symbols = ['ASML', 'BRENT', 'EURUSD', 'EUS', 'JPM', 'NFLX', 'NOVOB', 'SPY', 'USDJPY', 'XOM', 'HKG', 'ADS', 'VOW3', 'XAUUSD', 'BTC', 'ETH']\n",
    "for symbol in symbols:\n",
    "    df = pd.read_csv(f\"./data/{symbol}_5min.csv\")\n",
    "    filter_zero_volumes(df, symbol)"
   ],
   "outputs": [],
   "execution_count": 30
  },
  {
   "cell_type": "code",
   "metadata": {
    "ExecuteTime": {
     "end_time": "2025-01-26T14:32:53.399585Z",
     "start_time": "2025-01-26T14:32:53.386300Z"
    }
   },
   "source": [
    "def aggregate_to_daily(df, symbol):\n",
    "    \"\"\"\n",
    "    Aggregates 5-minute data to daily data.\n",
    "    Args:\n",
    "        df: A time series of prices and volumes.\n",
    "        symbol: The trading pair symbol.\n",
    "    \"\"\"\n",
    "    # Ensure 'timestamp' is a datetime\n",
    "    df['timestamp'] = pd.to_datetime(df['timestamp'])\n",
    "\n",
    "    # Aggregate by day\n",
    "    df_daily = df.resample('D', on='timestamp').agg({\n",
    "        'open': 'first',\n",
    "        'high': 'max',\n",
    "        'low': 'min',\n",
    "        'close': 'last',\n",
    "        'volume': 'sum'\n",
    "    })\n",
    "\n",
    "    # Drop rows with missing values\n",
    "    df_daily = df_daily.dropna()\n",
    "\n",
    "    # Save to CSV\n",
    "    df_daily.to_csv(f\"./data/{symbol}_daily.csv\")\n",
    "    \n",
    "    return\n"
   ],
   "outputs": [],
   "execution_count": 31
  },
  {
   "cell_type": "code",
   "metadata": {
    "ExecuteTime": {
     "end_time": "2025-01-26T14:33:03.433064Z",
     "start_time": "2025-01-26T14:32:53.416463Z"
    }
   },
   "source": [
    "symbols = ['ASML', 'BRENT', 'EURUSD', 'EUS', 'JPM', 'NFLX', 'NOVOB', 'SPY', 'USDJPY', 'XOM', 'HKG', 'ADS', 'VOW3', 'XAUUSD', 'BTC', 'ETH']\n",
    "for symbol in symbols:\n",
    "    df = pd.read_csv(f\"./data/{symbol}_5min.csv\")\n",
    "    aggregate_to_daily(df, symbol)"
   ],
   "outputs": [],
   "execution_count": 32
  }
 ],
 "metadata": {
  "kernelspec": {
   "display_name": "ada",
   "language": "python",
   "name": "python3"
  },
  "language_info": {
   "codemirror_mode": {
    "name": "ipython",
    "version": 3
   },
   "file_extension": ".py",
   "mimetype": "text/x-python",
   "name": "python",
   "nbconvert_exporter": "python",
   "pygments_lexer": "ipython3",
   "version": "3.11.10"
  }
 },
 "nbformat": 4,
 "nbformat_minor": 2
}
